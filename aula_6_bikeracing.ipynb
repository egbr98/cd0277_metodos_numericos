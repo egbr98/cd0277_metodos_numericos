{
 "cells": [
  {
   "cell_type": "markdown",
   "metadata": {},
   "source": [
    "# Corrida de bicicleta e o efeito da resistência do ar\n",
    "\n",
    "Jeanlex Soares de Sousa (jeanlex@fisica.ufc.br) <br>\n",
    "Departamento de Física <br>\n",
    "Universidade Federal do Ceará"
   ]
  },
  {
   "cell_type": "raw",
   "metadata": {},
   "source": []
  },
  {
   "cell_type": "markdown",
   "metadata": {},
   "source": [
    "## Introdução\n",
    "\n",
    "Numa corrida real de bicicleta, maior parte da energia é gasta para vencer a resistência do ar. Considerando-se o movimento em uma única dimensão, a equação do movimento a ser resolvida é:\n",
    "\n",
    "$$m \\frac{d^2 x}{d t^2} = F_R$$\n",
    "\n",
    "onde $F_R$ é a força resultante. Na ausência da resistência do ar, $F_R = F_C$ é a força que o ciclista faz nos pedais que coloca o sistema (bicicleta + ciclista) em movimento. Se houver resistência do ar, $F_R = F_C - F_{ar}$, onde $F_{ar}$ é a força da resistência do ar. Iremos resolver este problema na ausência e na presença de $F_{ar}$. \n",
    "\n",
    "## Movimento sem resistência do ar\n",
    "\n",
    "Assumindo $F_{ar} = 0$, é necessário uma forma explícita para $F_C$. Contudo, encontrar forma exata para descrever a força que um ciclista imprime no pedal é virtualmente impossível. A alternativa é formular o problema em termos da potência $P$ gasta pelo ciclista. A potência é dada por $P = \\frac{d E}{d t}$. Se o ciclista andar em uma estrada plana, tem-se que $E = m v^2/2$. Tem-se então:\n",
    "\n",
    "$$P = \\frac{d E}{d t} = m v \\frac{d v}{d t}$$\n",
    "\n",
    "$$\\frac{d v}{d t} = \\frac{P}{m v}$$\n",
    "\n",
    "Temos então uma equação diferencial para determinar a função $v(t)$, cuja solução exata é:\n",
    "\n",
    "$$v(t) = \\sqrt{v_0^2 + \\frac{2 P t}{m}}$$\n",
    "\n",
    "Note que, sem resistência do ar, a velocidade aumenta monotonicamente para o caso de potência constante. \n",
    "\n",
    "## Movimento com resistência do ar\n",
    "\n",
    "A resistência do ar, conforme demonstrada no livro texto, possui a seguinte forma:\n",
    "\n",
    "$$F_{ar} = \\frac{C \\rho A v^2}{2}$$\n",
    "\n",
    "onde $C$ é um fator de ajuste a ser determinado por experimentos de túnel de vento, $\\rho$ é a densidade do ar, $A$ é a área da secção reta do ciclista, e $v$ é a velocidade do ciclista. Aqui assume-se que a velocidade do ar é nula. Se não o fosse, $v$ seria a velocidade relativa do ar e do ciclista. Sendo assim, a equação diferencial que determina a velocidade do ciclista torna-se:\n",
    "\n",
    "$$\\frac{d v}{d t} = \\frac{P}{m v} - \\frac{C \\rho A v^2}{2m}$$\n",
    "\n",
    "## Solução numérica\n",
    "\n",
    "A solução numérica das equações diferenciais acima, requer que a discretização da derivada $dv / dt$. Assumindo a derivada progressiva, tem-se:\n",
    "\n",
    "$$\\frac{d v}{dt} \\approx \\frac{v(t+\\Delta t) - v(t)}{\\Delta t}$$\n",
    "\n",
    "Sendo assim, a forma discretizada das esquações diferenciais sem e com o efeito da resistência do ar tornam-se:\n",
    "\n",
    "$$v_{i+1} = v_i + \\frac{P}{m v_i} \\Delta t$$\n",
    "\n",
    "$$v_{i+1} = v_i + \\frac{P}{m v_i} \\Delta t - \\frac{C \\rho A v_i^2}{2m} \\Delta t$$\n",
    "\n",
    "## Código\n",
    "\n",
    "O código abaixo resolve as equação diferencial do movimento da bicicleta e compara com a solução analítica sem a resistência do ar.\n",
    "\n",
    "\n"
   ]
  },
  {
   "cell_type": "code",
   "execution_count": 1,
   "metadata": {},
   "outputs": [],
   "source": [
    "# loading libraries \n",
    "%matplotlib inline\n",
    "import matplotlib.pyplot as plt\n",
    "import numpy as np"
   ]
  },
  {
   "cell_type": "code",
   "execution_count": 5,
   "metadata": {},
   "outputs": [],
   "source": [
    "# assigning input variables\n",
    "\n",
    "dt = 0.01          # time step increment\n",
    "nt = 300          # number of time steps\n",
    "\n",
    "Power = 400       # in W (Power)  \n",
    "v0 = 0.5          # in m/s (initial velocity)\n",
    "mass = 80         # in kg (combined mass of bike + biker)\n",
    "rho = 1.225       # in kg/m^3 (air density)\n",
    "C = 0.1           # aerodynamic parameter\n",
    "A = 0.5           # in m^2 (area cross-section)\n",
    "\n",
    "ct1 = Power/mass       # auxiliary constant\n",
    "ct2 = C*rho*A/2*mass   # auxiliary constant\n",
    "\n",
    "Tmax = (nt-1)*dt  # this is not an input variable\n",
    "                  # it only calculates the total time "
   ]
  },
  {
   "cell_type": "code",
   "execution_count": 6,
   "metadata": {},
   "outputs": [],
   "source": [
    "# array of time steps t_i (nt points from 0 to Tmax)\n",
    "time = np.linspace(0,Tmax,nt)\n",
    "\n",
    "# theory without air resistance\n",
    "theory1 = np.zeros(nt)\n",
    "theory2 = np.zeros(nt)\n",
    "for i in range(0,nt):theory1[i] = np.sqrt(v0**2 + 2*ct1*time[i])\n",
    "for i in range(0,nt):theory2[i] = np.sqrt(v0**2 + (2*ct1-ct2)*time[i])\n",
    "\n",
    "# numerical velocity without air resistance\n",
    "veloc1 = np.zeros(nt)\n",
    "veloc1[0] = v0\n",
    "\n",
    "# numerical velocity with air resistance\n",
    "veloc2 = np.zeros(nt)\n",
    "veloc2[0] = v0\n",
    "\n",
    "# iterating loop starting at second array position \n",
    "for i in range(1,nt):\n",
    "    veloc1[i] = veloc1[i-1] + ct1*dt/veloc1[i-1]\n",
    "    veloc2[i] = veloc2[i-1] + ct1*dt/veloc2[i-1] - ct2*dt*veloc2[i-1]**2"
   ]
  },
  {
   "cell_type": "code",
   "execution_count": 7,
   "metadata": {},
   "outputs": [
    {
     "data": {
      "image/png": "[encoded data removed]",
      "text/plain": [
       "<matplotlib.figure.Figure at 0x10e580588>"
      ]
     },
     "metadata": {},
     "output_type": "display_data"
    }
   ],
   "source": [
    "plt.plot(time, veloc1, '-b',time, theory1,'--b',time,veloc2,'r-')\n",
    "plt.axis([0, 5, 0, 8])\n",
    "plt.xlabel('time (s)')\n",
    "plt.ylabel('velocity (m/s)')\n",
    "plt.legend(['no resistance','theory','air resistance'])\n",
    "plt.show()"
   ]
  },
  {
   "cell_type": "code",
   "execution_count": null,
   "metadata": {},
   "outputs": [],
   "source": []
  },
  {
   "cell_type": "raw",
   "metadata": {},
   "source": []
  }
 ],
 "metadata": {
  "kernelspec": {
   "display_name": "Python 3",
   "language": "python",
   "name": "python3"
  },
  "language_info": {
   "codemirror_mode": {
    "name": "ipython",
    "version": 3
   },
   "file_extension": ".py",
   "mimetype": "text/x-python",
   "name": "python",
   "nbconvert_exporter": "python",
   "pygments_lexer": "ipython3",
   "version": "3.7.1"
  }
 },
 "nbformat": 4,
 "nbformat_minor": 1
}
