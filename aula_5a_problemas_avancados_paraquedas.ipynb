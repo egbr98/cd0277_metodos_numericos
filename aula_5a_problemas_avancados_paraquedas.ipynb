{
 "cells": [
  {
   "cell_type": "markdown",
   "metadata": {},
   "source": [
    "# Problemas avançados: velocidade terminal no salto de paraquedas\n",
    "\n",
    "Jeanlex Soares de Sousa (jeanlex@fisica.ufc.br) <br>\n",
    "Departamento de Física <br>\n",
    "Universidade Federal do Ceará"
   ]
  },
  {
   "cell_type": "markdown",
   "metadata": {},
   "source": [
    "O modelo físico que descreve a velocidade de um paraquedista levando-se em conta a força de atrito é dado pela equação:\n",
    "\n",
    "$$\\frac{d v}{d t} = a  - b v$$\n",
    "\n",
    "Note que se $b = 0$, tem-se que se $d v/ d t = a$, onde $a$ é a aceleração. O termo $- b v$ descreve um fator de desaceleração proporcional a velocidade. Assumindo-se que $v(0) = v_0$, a solução analítica deste problema é:\n",
    "\n",
    "$$v(t) = \\frac{a}{b}\\left(1 - e^{-b t}\\right) + v_0 e^{-b t}$$\n",
    "\n",
    "Quando $t\\rightarrow \\infty$, encontra-se a chamada velocidade terminal de queda $v_{term} = a/b$. A discretização da equação diferencial acima usando a derivada progressiva torna-se:\n",
    "\n",
    "$$\\frac{d v}{d t} \\approx \\frac{v(t+\\Delta t)-v(t)}{\\Delta t}$$\n",
    "\n",
    "$$v(t+\\Delta) \\approx a\\Delta t + v(t)(1 - b \\Delta t)$$\n",
    "\n",
    "Generalizando-se a expressão acima para qualquer instante $t_i$, obtem=se:\n",
    "\n",
    "$$v_{i+1} = a \\Delta t + v_i(1 - b\\Delta t)$$\n"
   ]
  },
  {
   "cell_type": "markdown",
   "metadata": {},
   "source": [
    "## Código com vetorização\n"
   ]
  },
  {
   "cell_type": "markdown",
   "metadata": {},
   "source": [
    "### Carregando bibliotecas e definição prévia de funções"
   ]
  },
  {
   "cell_type": "code",
   "execution_count": 25,
   "metadata": {},
   "outputs": [],
   "source": [
    "# -----------------------------------------\n",
    "# Carregando bibliotecas numérica e gráfica\n",
    "# -----------------------------------------\n",
    "import matplotlib.pyplot as plt\n",
    "import numpy as np\n",
    "\n",
    "# -----------------------------------------\n",
    "# função para calcular a solução exata\n",
    "# -----------------------------------------\n",
    "def fveloc(t,a,b,v0):\n",
    "    return (a/b)*(1-np.exp(-b*t))+b*v0*np.exp(-b*t)\n",
    "\n",
    "# -----------------------------------------\n",
    "# função para calcular a solução numérica\n",
    "# -----------------------------------------\n",
    "def fveloc_disc(t,a,b,v0):\n",
    "    \n",
    "    # esta função recebe um vetor contendo todos os instantes de tempo t_i do problema\n",
    "    # e determina o tamanho deste vetor\n",
    "    nt = len(t)\n",
    "    \n",
    "    # calcula o passo dt assumindo que o vetor dos instantes é uniforme\n",
    "    dt = t[1] - t[0]\n",
    "    \n",
    "    #cria um veotr de velocidades com o mesmo tamanho da lista contendo os instantes t_\n",
    "    v = np.zeros(nt)\n",
    "    \n",
    "    # preenche a condição inicial da velocidade v[0] = v0\n",
    "    v[0] = v0\n",
    "\n",
    "    # a partir da equação discretizada, calcula os valores da velocidade v_i nos instantes t_i\n",
    "    for i in range(1,nt): v[i] = a*dt + v[i-1]*(1-b*dt)\n",
    "    return v"
   ]
  },
  {
   "cell_type": "markdown",
   "metadata": {},
   "source": [
    "### Parte principal do programa"
   ]
  },
  {
   "cell_type": "code",
   "execution_count": 34,
   "metadata": {
    "scrolled": true
   },
   "outputs": [
    {
     "data": {
      "image/png": "[encoded data removed]",
      "text/plain": [
       "<Figure size 432x288 with 1 Axes>"
      ]
     },
     "metadata": {
      "needs_background": "light"
     },
     "output_type": "display_data"
    }
   ],
   "source": [
    "# -----------------------------------------\n",
    "# inicialização de variáveis\n",
    "# -----------------------------------------\n",
    "\n",
    "dt = 0.1          # time step increment\n",
    "nt = 500          # number of time steps\n",
    "a  = 9.81         # acceleration\n",
    "v0 = 0            # v(0)\n",
    "b1  = 0.1\n",
    "b2  = 0.5\n",
    "\n",
    "\n",
    "Tmax = (nt-1)*dt  # this is not an input variable\n",
    "                  # it only calculates the total time \n",
    "    \n",
    "# -----------------------------------------\n",
    "# lista para armazenar t e N(t)\n",
    "# -----------------------------------------\n",
    "\n",
    "# cria lista dos t_i com Nt elementos todos inicialmente zerados\n",
    "time = np.linspace(0, Tmax, nt)\n",
    "\n",
    "# para b1\n",
    "v_theory_b1 = fveloc(time,a,b1,v0)   # vecolicdade teórica\n",
    "v_term_b1 = np.ones(nt)*(a/b)        # velocidade terminal\n",
    "v_num_b1 = fveloc_disc(time,a,b1,v0) # velocidade numérica\n",
    "\n",
    "# para b2\n",
    "v_theory_b2 = fveloc(time,a,b2,v0)   # vecolicdade teórica\n",
    "v_term_b2 = np.ones(nt)*(a/b2)        # velocidade terminal\n",
    "v_num_b2 = fveloc_disc(time,a,b2,v0) # velocidade numérica\n",
    "\n",
    "# -----------------------------------------\n",
    "# plotagem dos resultados numérico e teórico\n",
    "# -----------------------------------------\n",
    "    \n",
    "plt.plot(time,v_theory_b1,'r--',\n",
    "         time,v_term_b1,'k:',\n",
    "         time,v_num_b1,'b',\n",
    "         time,v_theory_b2,'r--',\n",
    "         time,v_term_b2,'k:',\n",
    "         time,v_num_b2,'b',\n",
    "        )\n",
    "plt.axis([0, Tmax, -0.1, 1.2*max(a/b1,a/b2)])\n",
    "plt.show()"
   ]
  },
  {
   "cell_type": "markdown",
   "metadata": {
    "collapsed": true
   },
   "source": [
    "## Sugestões de estudo\n",
    "\n",
    "* Escreva um código para plotar o erro $\\Delta_i =  |N_{num}(t_i) - N_{teo}(t_i)|$ e determine o erro integrado $\\Delta_{tot} = \\sum_i \\Delta_i$\n",
    "* Com o código acima, plote o gráfico $\\Delta_{tot}~\\times~\\Delta t$.\n",
    "* Os exemplos acima foram escritos usando-se a derivada numérica progressiva para aproximar a derivada contínua $d N/ d t$. Escreva um código para resolver o problema do decaimento radiativo utilizando a derivada numérica central.\n",
    "* Compare o erro entre as duas aproximações de derivadas numéricas com um gráfico $\\Delta_{tot}~\\times~\\Delta t$"
   ]
  }
 ],
 "metadata": {
  "kernelspec": {
   "display_name": "Python 3",
   "language": "python",
   "name": "python3"
  },
  "language_info": {
   "codemirror_mode": {
    "name": "ipython",
    "version": 3
   },
   "file_extension": ".py",
   "mimetype": "text/x-python",
   "name": "python",
   "nbconvert_exporter": "python",
   "pygments_lexer": "ipython3",
   "version": "3.7.1"
  }
 },
 "nbformat": 4,
 "nbformat_minor": 1
}
