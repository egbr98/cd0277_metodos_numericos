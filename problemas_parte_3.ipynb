{
 "cells": [
  {
   "cell_type": "markdown",
   "metadata": {},
   "source": [
    "# Problemas da Parte 3\n",
    "\n",
    "Jeanlex Soares de Sousa (jeanlex@fisica.ufc.br) <br>\n",
    "Departamento de Física <br>\n",
    "Universidade Federal do Ceará"
   ]
  },
  {
   "cell_type": "markdown",
   "metadata": {},
   "source": [
    "1 - A Força que um campo magnético exerce sobre uma partícula de massma $m$ e carga $q$ que se move com velocidade $\\vec{v}$ é dada por:\n",
    "\n",
    "$$ \\vec{F}_B = q (\\vec{v} \\times \\vec{B}) $$\n",
    "\n",
    "Sendo $\\vec{F}_B$ a única força resultante sobre esta partícula, e sabendo que:\n",
    "\n",
    "$$ \\vec{a} \\times \\vec{b} = det\\left(  \\begin{array}{ccc}\n",
    "\\hat{i} & \\hat{j} & \\hat{k} \\\\\n",
    "a_x & a_y & a_z \\\\\n",
    "b_x & b_y & b_z \\end{array} \\right) $$\n",
    "\n",
    "* 1.a - Escreva explicitamente as equações do movimento para $x$, $y$ e $z$, e para $v_x$, $v_y$ e $v_z$.\n",
    "\n",
    "* 1.b - Determine a versão discretizada destas equações. \n",
    "* 1.c - Assumindo que $\\vec{v}_0 = (v_{0x},v_{0y},v_{0z})$, $\\vec{r}_0 = (x_{0},y_{0},z_{0})$ e $\\vec{B} = (0,0,B)$, encontre a solução analítica deste problema. \n",
    "\n",
    "2 - Modifique o código do movimento de projéteis em 3D para calcular numericamente o problema descrito acima assumindo o caso mais geral possível onde o vetor $\\vec{B}$ pode ter componentes não nulas nas três direções.\n",
    "\n",
    "* 2.a - Resolve o problema numérico assumindo $q = m = 1$, $\\vec{r}_0 = (1,0,0)$, $\\vec{v}_0 = (0,1,0)$ e $\\vec{B} = (0,0,1)$, e plote a trajetória. Compare o resultado com a solução analítica.\n",
    "\n",
    "* 2.b - Resolve o problema numérico assumindo $q = m = 1$, $\\vec{r}_0 = (1,0,0)$, $\\vec{v}_0 = (0,1/\\sqrt{2},1/\\sqrt{2})$ e $\\vec{B} = (0,0,1)$, e plote a trajetória. Explique a diferença de trajetória entre os itens 2.a e 2.b.\n",
    "\n",
    "3 - Inclua a agora na sua equação diferencial um termo de atrito de forma que a força resultante sobre a partícula seja:\n",
    "\n",
    "$$\\vec{F}_R = \\vec{F}_B - \\gamma \\vec{v}$$\n",
    "\n",
    "Note que este modelo de atrito é mais simples que o modelo devido a resistência do ar. Descreva explicitamente as equações diferencias discretizadas para este problema\n",
    "\n",
    "* 3.a - Repita o problema 2.a incluindo o termo de atrito com $\\gamma = 0.1$. Plote as duas trajetórias e explique o resultado. \n",
    "\n"
   ]
  },
  {
   "cell_type": "code",
   "execution_count": null,
   "metadata": {},
   "outputs": [],
   "source": []
  }
 ],
 "metadata": {
  "kernelspec": {
   "display_name": "Python 3",
   "language": "python",
   "name": "python3"
  },
  "language_info": {
   "codemirror_mode": {
    "name": "ipython",
    "version": 3
   },
   "file_extension": ".py",
   "mimetype": "text/x-python",
   "name": "python",
   "nbconvert_exporter": "python",
   "pygments_lexer": "ipython3",
   "version": "3.7.1"
  }
 },
 "nbformat": 4,
 "nbformat_minor": 2
}
