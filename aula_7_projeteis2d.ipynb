{
 "cells": [
  {
   "cell_type": "markdown",
   "metadata": {},
   "source": [
    "# Movimento de projéteis e o efeito da resistência do ar em duas dimensões\n",
    "\n",
    "Jeanlex Soares de Sousa (jeanlex@fisica.ufc.br) <br>\n",
    "Departamento de Física <br>\n",
    "Universidade Federal do Ceará"
   ]
  },
  {
   "cell_type": "markdown",
   "metadata": {},
   "source": [
    "## Introdução\n",
    "\n",
    "Em um lançamento de projéteis em duas dimensões, o movimento pode ser descomposto no movimento nas duas direções, cujas equações do movimento são:\n",
    "\n",
    "$$m \\frac{d^2 x}{d t^2} = F_{R,x}$$\n",
    "\n",
    "$$m \\frac{d^2 y}{d t^2} = F_{R,y}$$\n",
    "\n",
    "onde $F_{R,i}$ é a força resultante na direção $i = (x,y)$. Na ausência da resistência do ar tem-se $F_{R,x} = 0$ e $F_{R,y} = P$, onde $P$ é o peso do corpo. Se houver resistência do ar, a força resultante precisa incluir o efeito da resistência do ar $F_{R,i} \\rightarrow F_{R,i} + F_{ar,i}$, onde $F_{ar}$ é a componente na direção $i$ da força da resistência do ar. Dos problemas anteriores, sabe-se que força de resistência do ar aponta na direção oposta da velocidade $\\vec{v}$ do corpo, e é dada por: \n",
    "\n",
    "$$\\vec{F}_{ar} = - B_2 v^2 \\hat{v}$$\n",
    "\n",
    "onde $B_2 = C \\rho A/2$. Temos, portanto, um problema de duas equações diferenciais ordinárias de 2a. ordem. Uma forma conveniente de resolver o problema e transformar cada uma das EDOs de 2a. ordem em duas EDOs de primeira ordem. Desta forma, tem-se:\n",
    "\n",
    "\n",
    "$$\\frac{d x}{d t} = v_x$$\n",
    "\n",
    "$$\\frac{d v_x}{d t} = - \\frac{B_2}{m} v v_x$$\n",
    "\n",
    "$$\\frac{d y}{d t} = v_y$$\n",
    "\n",
    "$$\\frac{d v_y}{d t} = -g - \\frac{B_2}{m} v v_y$$\n",
    "\n",
    "$$v = \\sqrt{v_x^2 + v_y^2}$$\n",
    "\n",
    "\n",
    "## Solução analítica sem resistência do ar\n",
    "\n",
    "A soluação analítica para o problema acima sem a resistência do ar é:\n",
    "\n",
    "$$x = x_0 + (v_0 \\cos \\theta) t $$\n",
    "\n",
    "$$v_x = v_0 \\cos \\theta $$\n",
    "\n",
    "$$y = y_0 + (v_0 \\sin \\theta) t - \\frac{g t^2}{2} $$\n",
    "\n",
    "$$v_y = v_0 \\sin \\theta - g t $$\n",
    "\n",
    "\n",
    "\n",
    "## Solução numérica\n",
    "\n",
    "A solução numérica das equações diferenciais acima, requer que a discretização das derivadas $d v / dt$ e $d x/dt$. Assumindo a derivada progressiva, tem-se:\n",
    "\n",
    "$$\\frac{d x}{dt} \\approx \\frac{x(t+\\Delta t) - x(t)}{\\Delta t}$$\n",
    "\n",
    "$$\\frac{d v}{dt} \\approx \\frac{v(t+\\Delta t) - v(t)}{\\Delta t}$$\n",
    "\n",
    "Sendo assim, a forma discretizada das esquações diferenciais sem e com o efeito da resistência do ar tornam-se:\n",
    "\n",
    "$$x_{i+1} = x_i + v_{x,i} \\Delta t$$\n",
    "\n",
    "$$v_{x,i+1} = v_{x,i} \\left(1 - \\frac{B_2}{m} v_i \\Delta t \\right) $$\n",
    "\n",
    "$$y_{i+1} = y_i + v_{y,i} \\Delta t$$\n",
    "\n",
    "$$v_{y,i+1} = v_{y,i} \\left(1 - \\frac{B_2}{m} v_i \\Delta t \\right) - g \\Delta t$$\n",
    "\n",
    "$$v_i = \\sqrt{v_{x,i}^2 + v_{y,i}^2}$$\n",
    "\n",
    "## Código\n",
    "\n",
    "O código abaixo resolve as equação diferencial do movimento de projéteis e compara com a solução analítica sem a resistência do ar."
   ]
  },
  {
   "cell_type": "code",
   "execution_count": 7,
   "metadata": {},
   "outputs": [],
   "source": [
    "# loading libraries \n",
    "%matplotlib inline\n",
    "import matplotlib.pyplot as plt\n",
    "import numpy as np"
   ]
  },
  {
   "cell_type": "code",
   "execution_count": 8,
   "metadata": {},
   "outputs": [],
   "source": [
    "# assigning input variables\n",
    "\n",
    "dt = 0.1          # time step increment\n",
    "nt = 200          # number of time steps\n",
    "\n",
    "x0 = 0            # in m (initial x coordinate)\n",
    "y0 = 0            # in m (initial y coordinate)\n",
    "v0 = 150.0          # in m/s (initial velocity)\n",
    "theta = 30        # in degrees (angle of launch)\n",
    "mass = 1          # in kg (projectile mass)\n",
    "g = 9.81          # in m/s^2 (gravity acceleration)\n",
    "\n",
    "rho = 1.225       # in kg/m^3 (air density)\n",
    "C = 0.1           # aerodynamic parameter\n",
    "A = 0.1           # in m^2 (area cross-section)\n",
    "\n",
    "B2 = C*rho*A/2    # auxiliary constant\n",
    "cte = B2/mass     # auxiliary constant\n",
    "\n",
    "Tmax = (nt-1)*dt  # this is not an input variable\n",
    "                  # it only calculates the total time \n",
    "        "
   ]
  },
  {
   "cell_type": "code",
   "execution_count": 9,
   "metadata": {},
   "outputs": [],
   "source": [
    "# defining a function that calculates the whole \n",
    "# time iteration of the diffencial equation \n",
    "\n",
    "def ProjectileMotion(t,x0,y0,v0,theta,b2m):\n",
    "\n",
    "    nsteps = len(t)  # find the number of time steps\n",
    "    \n",
    "    dt = t[1] - t[0] # dt definition\n",
    "    \n",
    "    # array creation for all quantities\n",
    "    x = np.zeros(nsteps)    # array of x coordinates    \n",
    "    y = np.zeros(nsteps)    # array of y coordinates \n",
    "    vx = np.zeros(nsteps)   # array of vx component with resist  \n",
    "    vy = np.zeros(nsteps)   # array of vy component with resist\n",
    "    v  = np.zeros(nsteps)   # array of sqrt(vx^2+vy^2) component \n",
    "\n",
    "    # defining initial conditions\n",
    "    x[0] = x0\n",
    "    y[0] = y0\n",
    "    v[0] = v0\n",
    "    vx[0] = v0*np.cos(np.pi*theta/180)  # cosine function only \n",
    "    vy[0] = v0*np.sin(np.pi*theta/180)  # takes arguments in radian\n",
    "\n",
    "    # iterating loop starting at second array position \n",
    "    for i in range(1,nsteps):\n",
    "        x[i] = x[i-1] + vx[i-1]*dt\n",
    "        y[i] = y[i-1] + vy[i-1]*dt\n",
    "        vx[i] = vx[i-1]*(1 - b2m*v[i-1]*dt)\n",
    "        vy[i] = vy[i-1]*(1 - b2m*v[i-1]*dt) - g*dt\n",
    "        v[i] = np.sqrt(vx[i]**2 + vy[i]**2)\n",
    "    \n",
    "    return x,y,vx,vy,v\n"
   ]
  },
  {
   "cell_type": "code",
   "execution_count": 11,
   "metadata": {},
   "outputs": [
    {
     "data": {
      "image/png": "[encoded data removed]",
      "text/plain": [
       "<Figure size 432x288 with 1 Axes>"
      ]
     },
     "metadata": {
      "needs_background": "light"
     },
     "output_type": "display_data"
    }
   ],
   "source": [
    "# array of time steps t_i (all filled with zeros)\n",
    "time = np.linspace(0,Tmax,nt)\n",
    "\n",
    "# calculating the solution WITH the air resistance\n",
    "x,y,vx,vy,v = ProjectileMotion(time,x0,y0,v0,theta,B2/mass)\n",
    "\n",
    "# calculating the solution WITH half air resistance\n",
    "x1,y1,vx1,vy1,v1 = ProjectileMotion(time,x0,y0,v0,theta,0.5*B2/mass)\n",
    "\n",
    "# calculating the solution WITHOUT the air resistance\n",
    "xx,yy,vvx,vvy,vv = ProjectileMotion(time,x0,y0,v0,theta,0)\n",
    "\n",
    "plt.plot(x,y,'b-',xx,yy,'r-',x1,y1,'g--')\n",
    "plt.axis([0, np.max(xx), 0, 1.05*np.max(yy)])\n",
    "plt.xlabel('x (m)')\n",
    "plt.ylabel('y (m)')\n",
    "plt.legend(['with resistance','no resistance','half resistance'])\n",
    "plt.show()"
   ]
  },
  {
   "cell_type": "code",
   "execution_count": 12,
   "metadata": {},
   "outputs": [
    {
     "data": {
      "image/png": "[encoded data removed]",
      "text/plain": [
       "<Figure size 432x288 with 1 Axes>"
      ]
     },
     "metadata": {
      "needs_background": "light"
     },
     "output_type": "display_data"
    }
   ],
   "source": [
    "plt.plot(time,vx,'b-',time,vy,'b--',time,vvx,'r-',time,vvy,'r--',)\n",
    "plt.xlabel('t (s)')\n",
    "plt.ylabel('v (m/s)')\n",
    "plt.legend(['vx res.','vy res.','vx no res.','vy no res.'])\n",
    "plt.show()"
   ]
  },
  {
   "cell_type": "code",
   "execution_count": null,
   "metadata": {
    "collapsed": true
   },
   "outputs": [],
   "source": []
  }
 ],
 "metadata": {
  "kernelspec": {
   "display_name": "Python 3",
   "language": "python",
   "name": "python3"
  },
  "language_info": {
   "codemirror_mode": {
    "name": "ipython",
    "version": 3
   },
   "file_extension": ".py",
   "mimetype": "text/x-python",
   "name": "python",
   "nbconvert_exporter": "python",
   "pygments_lexer": "ipython3",
   "version": "3.7.1"
  }
 },
 "nbformat": 4,
 "nbformat_minor": 1
}
