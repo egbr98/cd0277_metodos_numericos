{
 "cells": [
  {
   "cell_type": "markdown",
   "metadata": {},
   "source": [
    "# Exercícios para treinar a Parte 2\n",
    "\n",
    "Jeanlex Soares de Sousa (jeanlex@fisica.ufc.br) <br>\n",
    "Departamento de Física <br>\n",
    "Universidade Federal do Ceará"
   ]
  },
  {
   "cell_type": "markdown",
   "metadata": {},
   "source": [
    "1 - Para o problema do decaimento radiativo\n",
    "\n",
    "* Modifique o código para proximar a derivada contínua $d N/ d t$ pela derivada numérica central. Assumindo $\\tau = 1$, compare a solução teórica com as soluções numéricas via derivada progressiva e derivada central. Mostre o resultado para diferentes valores de $\\Delta t = 0.01, 0.02, 0.04, 0.06, 0.08,0.10$ em um intervalo de tempo $t \\in [0,5]$.\n",
    "\n",
    "* Escreva um código para plotar o erro $\\Delta_i =  |N_{num}(t_i) - N_{teo}(t_i)|$ e determine o erro integrado $\\Delta_{tot} = \\sum_i \\Delta_i$ para cada uma das duas aproximações de derivada numérica\n",
    "* Compare o erro entre as duas aproximações de derivadas numéricas com um gráfico $\\Delta_{tot}~\\times~\\Delta t$\n",
    "\n",
    "\n",
    "2 - Resolva o problema 1.4 do livro-texto.\n",
    "\n",
    "3 - Resolva o problema 1.5 do livro-texto."
   ]
  },
  {
   "cell_type": "code",
   "execution_count": null,
   "metadata": {},
   "outputs": [],
   "source": []
  }
 ],
 "metadata": {
  "kernelspec": {
   "display_name": "Python 3",
   "language": "python",
   "name": "python3"
  },
  "language_info": {
   "codemirror_mode": {
    "name": "ipython",
    "version": 3
   },
   "file_extension": ".py",
   "mimetype": "text/x-python",
   "name": "python",
   "nbconvert_exporter": "python",
   "pygments_lexer": "ipython3",
   "version": "3.7.1"
  }
 },
 "nbformat": 4,
 "nbformat_minor": 2
}
