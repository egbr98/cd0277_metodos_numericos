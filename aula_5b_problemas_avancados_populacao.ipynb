{
 "cells": [
  {
   "cell_type": "markdown",
   "metadata": {},
   "source": [
    "# Problemas avançados: crescimento populacional\n",
    "\n",
    "Jeanlex Soares de Sousa (jeanlex@fisica.ufc.br) <br>\n",
    "Departamento de Física <br>\n",
    "Universidade Federal do Ceará"
   ]
  },
  {
   "cell_type": "markdown",
   "metadata": {},
   "source": [
    "Um modelo físico simples que descreve o crescimento populacional levando-se em conta nascimento e morte dos membros da população e:\n",
    "\n",
    "$$\\frac{d N}{d t} = a N  - b N^2$$\n",
    "\n",
    "onde $N$ descreve o número de indivíduos na população, o termo $a N$ descreve nascimento de novos membros, e $b N^2$ descreve a morte dos membros da população. O termo de morte é não linear e proporcional a $N^2$ para descrever que a oferta de comida diminui à medida que a população cresce. \n",
    "\n",
    "Para $b = 0$, esta equação tem solução analítica simples:\n",
    "\n",
    "$$N(t) = N_0 e^{a t},$$\n",
    "\n",
    "indicando que, sem mortes, a população cresce exponencialmente. Contudo, para $b=0$, a solução analítica não é trivial. E temos de resolver este problema somente na forma numérica. A discretização da equação diferencial acima usando a derivada progressiva torna-se:\n",
    "\n",
    "$$\\frac{d N}{d t} \\approx \\frac{N(t+\\Delta t)-N(t)}{\\Delta t}$$\n",
    "\n",
    "$$N(t+\\Delta) \\approx N(t)(1+a\\Delta t) -b \\Delta t N^2(t)$$\n",
    "\n",
    "Generalizando-se a expressão acima para qualquer instante $t_i$, obtem=se:\n",
    "\n",
    "$$N_{i+1} = N_i(1+a \\Delta t) -  b\\Delta t N_i^2$$\n",
    "\n",
    "Devido a falta de solução analítica para $b\\neq0$, a comparação entre resultados teórico e numérico deve ser feita apenas nolimite que há solução analítica. Em geral, a comparação das soluções analítica e numérica nas condições em que haja solução analítica serve como testar o programa. \n"
   ]
  },
  {
   "cell_type": "markdown",
   "metadata": {},
   "source": [
    "## Código com vetorização\n"
   ]
  },
  {
   "cell_type": "markdown",
   "metadata": {},
   "source": [
    "### Carregando bibliotecas e definição prévia de funções"
   ]
  },
  {
   "cell_type": "code",
   "execution_count": 10,
   "metadata": {},
   "outputs": [],
   "source": [
    "# -----------------------------------------\n",
    "# Carregando bibliotecas numérica e gráfica\n",
    "# -----------------------------------------\n",
    "import matplotlib.pyplot as plt\n",
    "import numpy as np\n",
    "\n",
    "# -----------------------------------------\n",
    "# função para calcular a solução exata\n",
    "# -----------------------------------------\n",
    "def fpop(t,a,N0):\n",
    "    return N0*np.exp(a*t)\n",
    "\n",
    "# -----------------------------------------\n",
    "# função para calcular a solução numérica\n",
    "# -----------------------------------------\n",
    "def fpop_disc(t,a,b,N0):\n",
    "    \n",
    "    # esta função recebe um vetor contendo todos os instantes de tempo t_i do problema\n",
    "    # e determina o tamanho deste vetor\n",
    "    nt = len(t)\n",
    "    \n",
    "    # calcula o passo dt assumindo que o vetor dos instantes é uniforme\n",
    "    dt = t[1] - t[0]\n",
    "    \n",
    "    #cria um vetor de população com o mesmo tamanho da lista contendo os instantes t_i\n",
    "    N = np.zeros(nt)\n",
    "    \n",
    "    # preenche a condição inicial da população N[0] = v0\n",
    "    N[0] = N0\n",
    "\n",
    "    # a partir da equação discretizada, calcula os valores da velocidade N_i nos instantes t_i\n",
    "    for i in range(1,nt): N[i] = (1+a*dt)*N[i-1] - b*dt*(N[i-1]**2)\n",
    "    return N"
   ]
  },
  {
   "cell_type": "markdown",
   "metadata": {},
   "source": [
    "### Parte principal do programa"
   ]
  },
  {
   "cell_type": "code",
   "execution_count": 21,
   "metadata": {
    "scrolled": true
   },
   "outputs": [
    {
     "data": {
      "image/png": "[encoded data removed]",
      "text/plain": [
       "<Figure size 432x288 with 1 Axes>"
      ]
     },
     "metadata": {
      "needs_background": "light"
     },
     "output_type": "display_data"
    }
   ],
   "source": [
    "# -----------------------------------------\n",
    "# inicialização de variáveis\n",
    "# -----------------------------------------\n",
    "\n",
    "dt = 0.01          # time step increment\n",
    "nt = 500          # number of time steps\n",
    "N0 = 100          # N(0)\n",
    "a  = 0.1            # acceleration\n",
    "b1  = 0.0\n",
    "b2  = 0.1\n",
    "b3  = 0.01\n",
    "\n",
    "\n",
    "Tmax = (nt-1)*dt  # this is not an input variable\n",
    "                  # it only calculates the total time \n",
    "    \n",
    "# -----------------------------------------\n",
    "# lista para armazenar t e N(t)\n",
    "# -----------------------------------------\n",
    "\n",
    "# cria lista dos t_i com Nt elementos todos inicialmente zerados\n",
    "time = np.linspace(0, Tmax, nt)\n",
    "\n",
    "# para b1 temos solucao analítica e numérica\n",
    "N_theory_b1 = fpop(time,a,N0)   # vecolicdade teórica\n",
    "N_num_b1 = fpop_disc(time,a,b1,N0) # velocidade numérica\n",
    "\n",
    "# para b2 e b3 temos apenas solução analítica\n",
    "N_num_b2 = fpop_disc(time,a,b2,N0) # velocidade numérica\n",
    "N_num_b3 = fpop_disc(time,a,b3,N0) # velocidade numérica\n",
    "\n",
    "# -----------------------------------------\n",
    "# plotagem dos resultados numérico e teórico\n",
    "# -----------------------------------------\n",
    "    \n",
    "plt.plot(time,N_theory_b1,'r--',\n",
    "         time,N_num_b1,'k',\n",
    "         time,N_num_b2,'b',         \n",
    "         time,N_num_b3,'m')\n",
    "\n",
    "plt.axis([0, Tmax, 0, 200])\n",
    "plt.show()"
   ]
  },
  {
   "cell_type": "markdown",
   "metadata": {
    "collapsed": true
   },
   "source": [
    "## Sugestões de estudo\n",
    "\n",
    "* Resolva os problemas 1.4 e 1.5 do livro-texo"
   ]
  },
  {
   "cell_type": "code",
   "execution_count": null,
   "metadata": {},
   "outputs": [],
   "source": []
  }
 ],
 "metadata": {
  "kernelspec": {
   "display_name": "Python 3",
   "language": "python",
   "name": "python3"
  },
  "language_info": {
   "codemirror_mode": {
    "name": "ipython",
    "version": 3
   },
   "file_extension": ".py",
   "mimetype": "text/x-python",
   "name": "python",
   "nbconvert_exporter": "python",
   "pygments_lexer": "ipython3",
   "version": "3.7.1"
  }
 },
 "nbformat": 4,
 "nbformat_minor": 1
}
